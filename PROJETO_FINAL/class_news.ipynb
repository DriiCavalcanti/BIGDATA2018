{
 "cells": [
  {
   "cell_type": "code",
   "execution_count": 1,
   "metadata": {},
   "outputs": [
    {
     "name": "stderr",
     "output_type": "stream",
     "text": [
      "/home/Drii/anaconda3/lib/python3.6/site-packages/IPython/core/interactiveshell.py:2728: DtypeWarning: Columns (32) have mixed types. Specify dtype option on import or set low_memory=False.\n",
      "  interactivity=interactivity, compiler=compiler, result=result)\n"
     ]
    }
   ],
   "source": [
    "#importando bibliotecas\n",
    "import numpy as np\n",
    "import pandas as pd\n",
    "from operator import add\n",
    "import pyspark\n",
    "import os.path\n",
    "\n",
    "# carregar base de dados\n",
    "fileName = os.path.join('data', 'CommentsApril2018.csv')\n",
    "df = pd.read_csv(fileName)"
   ]
  },
  {
   "cell_type": "code",
   "execution_count": 2,
   "metadata": {},
   "outputs": [],
   "source": [
    "import re\n",
    "def removerPontuacao(texto):\n",
    "    \"\"\"Removes punctuation, changes to lower case, and strips leading and trailing spaces.\n",
    "\n",
    "    Note:\n",
    "        Only spaces, letters, and numbers should be retained.  Other characters should should be\n",
    "        eliminated (e.g. it's becomes its).  Leading and trailing spaces should be removed after\n",
    "        punctuation is removed.\n",
    "\n",
    "    Args:\n",
    "        texto (str): A string.\n",
    "\n",
    "    Returns:\n",
    "        str: The cleaned up string.\n",
    "    \"\"\"\n",
    "    return re.sub(r'[^A-Za-z0-9 ]', '', texto).strip().lower()\n",
    "\n",
    "def data_prep(df):\n",
    "    \n",
    "    new_df = df[['articleID','commentBody', 'editorsSelection']]\n",
    "    new_df['by_words'] = new_df['commentBody'].apply(lambda x: (removerPontuacao(x).split()))\n",
    "    del new_df['commentBody']\n",
    "    \n",
    "    return new_df.values\n",
    "\n",
    "#new_df.to_csv(r'data/trat_CommentsApril2018.txt', header=None, index=None, sep=',')\n"
   ]
  },
  {
   "cell_type": "code",
   "execution_count": 3,
   "metadata": {},
   "outputs": [
    {
     "name": "stderr",
     "output_type": "stream",
     "text": [
      "/home/Drii/anaconda3/lib/python3.6/site-packages/ipykernel_launcher.py:21: SettingWithCopyWarning: \n",
      "A value is trying to be set on a copy of a slice from a DataFrame.\n",
      "Try using .loc[row_indexer,col_indexer] = value instead\n",
      "\n",
      "See the caveats in the documentation: http://pandas.pydata.org/pandas-docs/stable/indexing.html#indexing-view-versus-copy\n"
     ]
    }
   ],
   "source": [
    "def split_comments(row):\n",
    "    return row['commentBody'].apply(lambda x: x.split())\n",
    "\n",
    "def take_10_words(words):\n",
    "    words.split(' ')\n",
    "    return ''\n",
    "\n",
    "RDD = sc.parallelize(data_prep(df))"
   ]
  },
  {
   "cell_type": "code",
   "execution_count": 4,
   "metadata": {},
   "outputs": [],
   "source": [
    "def trat_words(words):\n",
    "    return words \\\n",
    "                 .map(lambda kv: (kv,1)) \\\n",
    "                 .reduceByKey(add) \\\n",
    "                 .takeOrdered(10, key = lambda x: -x[0])\n",
    "    "
   ]
  },
  {
   "cell_type": "code",
   "execution_count": 6,
   "metadata": {},
   "outputs": [],
   "source": [
    "RDD_count = RDD \\\n",
    "                .map(lambda kv: (kv[0], kv[1], kv[2].trat_words()))\n"
   ]
  },
  {
   "cell_type": "code",
   "execution_count": null,
   "metadata": {},
   "outputs": [],
   "source": [
    "print(RDD.take(5))\n"
   ]
  }
 ],
 "metadata": {
  "kernelspec": {
   "display_name": "Python 3",
   "language": "python",
   "name": "python3"
  },
  "language_info": {
   "codemirror_mode": {
    "name": "ipython",
    "version": 3
   },
   "file_extension": ".py",
   "mimetype": "text/x-python",
   "name": "python",
   "nbconvert_exporter": "python",
   "pygments_lexer": "ipython3",
   "version": "3.6.4"
  }
 },
 "nbformat": 4,
 "nbformat_minor": 2
}
